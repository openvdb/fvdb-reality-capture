{
 "cells": [
  {
   "cell_type": "markdown",
   "id": "0fa61e66",
   "metadata": {
    "vscode": {
     "languageId": "raw"
    }
   },
   "source": [
    "# Mask Visualization Tool\n",
    "\n",
    "This notebook provides an interactive tool to visualize segmentation masks and their scales from the dataset created by `make_segmentation_dataset.py`.\n",
    "\n",
    "## Features:\n",
    "- **Image Selection**: Dropdown to choose which image/camera view to display\n",
    "- **Interactive Navigation**: Slider and buttons to navigate through masks sorted by scale (smallest to largest)\n",
    "- **Scale Display**: Shows the current mask's scale value and position in the sequence\n",
    "- **Visual Overlay**: Displays masks as semi-transparent red overlays on the original images\n",
    "\n",
    "## Usage:\n",
    "1. Load your segmentation dataset file (`.pt` file created by `make_segmentation_dataset.py`)\n",
    "2. Use the dropdown to select an image\n",
    "3. Use the slider or navigation buttons to browse through masks\n",
    "4. Observe how the scale values change as you navigate from smallest to largest masks\n"
   ]
  },
  {
   "cell_type": "code",
   "execution_count": 1,
   "id": "03a82c99",
   "metadata": {},
   "outputs": [
    {
     "name": "stdout",
     "output_type": "stream",
     "text": [
      "🔧 Setting up widget environment...\n"
     ]
    },
    {
     "data": {
      "application/vnd.jupyter.widget-view+json": {
       "model_id": "38d99e4aeebb419ead7cda146f723010",
       "version_major": 2,
       "version_minor": 0
      },
      "text/plain": [
       "HTML(value=\"<b style='color: green;'>✅ Widgets are working!</b>\")"
      ]
     },
     "metadata": {},
     "output_type": "display_data"
    },
    {
     "name": "stdout",
     "output_type": "stream",
     "text": [
      "📦 All imports completed successfully\n",
      "If you can see the green checkmark above, widgets are working properly!\n"
     ]
    }
   ],
   "source": [
    "import torch\n",
    "import matplotlib.pyplot as plt\n",
    "import numpy as np\n",
    "from pathlib import Path\n",
    "import ipywidgets as widgets\n",
    "from IPython.display import display, clear_output\n",
    "\n",
    "# Enable widget support and test immediately\n",
    "print(\"🔧 Setting up widget environment...\")\n",
    "\n",
    "# Test widget display immediately to verify it works\n",
    "test_widget = widgets.HTML(value=\"<b style='color: green;'>✅ Widgets are working!</b>\")\n",
    "display(test_widget)\n",
    "\n",
    "# Set matplotlib backend\n",
    "%matplotlib inline\n",
    "plt.rcParams['figure.figsize'] = (12, 8)\n",
    "\n",
    "print(\"📦 All imports completed successfully\")\n",
    "print(\"If you can see the green checkmark above, widgets are working properly!\")\n"
   ]
  },
  {
   "cell_type": "code",
   "execution_count": 2,
   "id": "3eb34b78",
   "metadata": {},
   "outputs": [
    {
     "name": "stdout",
     "output_type": "stream",
     "text": [
      "✅ MaskVisualizer class defined successfully\n"
     ]
    }
   ],
   "source": [
    "class MaskVisualizer:\n",
    "    def __init__(self, segmentation_data_path):\n",
    "        \"\"\"Initialize the mask visualizer with segmentation dataset.\"\"\"\n",
    "        self.data = torch.load(segmentation_data_path, map_location='cpu')\n",
    "        self.scales = self.data['scales']\n",
    "        self.mask_ids = self.data['mask_ids']\n",
    "        self.mask_cdfs = self.data['mask_cdfs']\n",
    "        self.images = self.data['images']\n",
    "        self.cam_to_worlds = self.data['cam_to_worlds']\n",
    "        self.intrinsics = self.data['intrinsics']\n",
    "\n",
    "        self.num_images = len(self.images)\n",
    "        self.current_image_idx = 0\n",
    "        self.current_mask_idx = 0\n",
    "\n",
    "        # UI components\n",
    "        self.image_selector = None\n",
    "        self.mask_slider = None\n",
    "        self.scale_label = None\n",
    "        self.output_area = None\n",
    "\n",
    "        print(f\"Loaded segmentation data with {self.num_images} images\")\n",
    "\n",
    "    def get_masks_for_image(self, image_idx):\n",
    "        \"\"\"Extract individual masks from pixel_to_mask_id tensor for given image.\"\"\"\n",
    "        pixel_to_mask_id = self.mask_ids[image_idx]  # [H, W, MM]\n",
    "        scales = self.scales[image_idx]  # [M]\n",
    "\n",
    "        # Get unique mask IDs (excluding -1 which means no mask)\n",
    "        unique_mask_ids = torch.unique(pixel_to_mask_id)\n",
    "        unique_mask_ids = unique_mask_ids[unique_mask_ids >= 0]  # Remove -1\n",
    "\n",
    "        masks = []\n",
    "        mask_scales = []\n",
    "\n",
    "        for mask_id in unique_mask_ids:\n",
    "            # Create binary mask for this ID\n",
    "            mask = (pixel_to_mask_id == mask_id).any(dim=-1)  # [H, W]\n",
    "            masks.append(mask)\n",
    "\n",
    "            # Get the scale for this mask ID\n",
    "            if mask_id < len(scales):\n",
    "                mask_scales.append(scales[mask_id].item())\n",
    "            else:\n",
    "                mask_scales.append(0.0)  # Fallback\n",
    "\n",
    "        # Sort by scale (smallest to largest)\n",
    "        if len(mask_scales) > 0:\n",
    "            sorted_indices = np.argsort(mask_scales)\n",
    "            masks = [masks[i] for i in sorted_indices]\n",
    "            mask_scales = [mask_scales[i] for i in sorted_indices]\n",
    "\n",
    "        return masks, mask_scales\n",
    "\n",
    "    def update_display(self, change=None):\n",
    "        \"\"\"Update the visualization when image or mask selection changes.\"\"\"\n",
    "        with self.output_area:\n",
    "            clear_output(wait=True)\n",
    "\n",
    "            # Get current image and masks\n",
    "            image = self.images[self.current_image_idx].numpy()\n",
    "            masks, scales = self.get_masks_for_image(self.current_image_idx)\n",
    "\n",
    "            if len(masks) == 0:\n",
    "                fig, ax = plt.subplots(1, 1, figsize=(12, 8))\n",
    "                ax.text(0.5, 0.5, 'No masks found for this image',\n",
    "                       transform=ax.transAxes, ha='center', va='center', fontsize=16)\n",
    "                ax.set_title(f\"Image {self.current_image_idx + 1}/{self.num_images}\")\n",
    "                self.scale_label.value = \"<b style='color: orange;'>No masks available</b>\"\n",
    "                plt.show()\n",
    "                return\n",
    "\n",
    "            # Update mask slider range if needed\n",
    "            if self.mask_slider.max != len(masks) - 1:\n",
    "                self.mask_slider.max = len(masks) - 1\n",
    "                self.mask_slider.value = min(self.current_mask_idx, len(masks) - 1)\n",
    "\n",
    "            # Clamp current mask index\n",
    "            self.current_mask_idx = min(self.current_mask_idx, len(masks) - 1)\n",
    "\n",
    "            # Create visualization\n",
    "            fig, ax = plt.subplots(1, 1, figsize=(12, 8))\n",
    "            ax.imshow(image)\n",
    "\n",
    "            # Overlay current mask\n",
    "            if self.current_mask_idx < len(masks):\n",
    "                mask = masks[self.current_mask_idx].numpy()\n",
    "                scale = scales[self.current_mask_idx]\n",
    "\n",
    "                # Create colored overlay for the mask\n",
    "                masked_overlay = np.zeros((*mask.shape, 4))\n",
    "                masked_overlay[mask] = [1, 0, 0, 0.4]  # Semi-transparent red\n",
    "                ax.imshow(masked_overlay)\n",
    "\n",
    "                # Update scale label\n",
    "                self.scale_label.value = f\"<b>Scale: {scale:.4f}</b> (Mask {self.current_mask_idx + 1}/{len(masks)})\"\n",
    "\n",
    "            ax.set_title(f\"Image {self.current_image_idx + 1}/{self.num_images}\")\n",
    "            ax.axis('off')\n",
    "            plt.tight_layout()\n",
    "            plt.show()\n",
    "\n",
    "    def on_image_change(self, change):\n",
    "        \"\"\"Handle image selection change.\"\"\"\n",
    "        self.current_image_idx = change['new']\n",
    "        self.current_mask_idx = 0  # Reset to first mask\n",
    "        self.update_display()\n",
    "\n",
    "    def on_mask_change(self, change):\n",
    "        \"\"\"Handle mask selection change.\"\"\"\n",
    "        self.current_mask_idx = change['new']\n",
    "        self.update_display()\n",
    "\n",
    "    def create_widgets(self):\n",
    "        \"\"\"Create and display the interactive widgets.\"\"\"\n",
    "        # Image selector dropdown\n",
    "        self.image_selector = widgets.Dropdown(\n",
    "            options=[(f\"Image {i+1}\", i) for i in range(self.num_images)],\n",
    "            value=0,\n",
    "            description='Image:',\n",
    "            style={'description_width': 'initial'}\n",
    "        )\n",
    "        self.image_selector.observe(self.on_image_change, names='value')\n",
    "\n",
    "        # Get initial masks to set up slider\n",
    "        initial_masks, initial_scales = self.get_masks_for_image(0)\n",
    "        max_masks = len(initial_masks) if initial_masks else 0\n",
    "\n",
    "        # Mask slider\n",
    "        self.mask_slider = widgets.IntSlider(\n",
    "            value=0,\n",
    "            min=0,\n",
    "            max=max(0, max_masks - 1),\n",
    "            step=1,\n",
    "            description='Mask:',\n",
    "            continuous_update=True,\n",
    "            layout=widgets.Layout(width='400px'),\n",
    "            style={'description_width': 'initial'}\n",
    "        )\n",
    "        self.mask_slider.observe(self.on_mask_change, names='value')\n",
    "\n",
    "        # Scale label\n",
    "        self.scale_label = widgets.HTML(value=\"<b>Scale: Loading...</b>\")\n",
    "\n",
    "        # Navigation buttons\n",
    "        prev_button = widgets.Button(\n",
    "            description=\"◀ Previous\",\n",
    "            layout=widgets.Layout(width='100px'),\n",
    "            button_style='info'\n",
    "        )\n",
    "        next_button = widgets.Button(\n",
    "            description=\"Next ▶\",\n",
    "            layout=widgets.Layout(width='100px'),\n",
    "            button_style='info'\n",
    "        )\n",
    "\n",
    "        def prev_mask(b):\n",
    "            if self.mask_slider.value > 0:\n",
    "                self.mask_slider.value -= 1\n",
    "\n",
    "        def next_mask(b):\n",
    "            if self.mask_slider.value < self.mask_slider.max:\n",
    "                self.mask_slider.value += 1\n",
    "\n",
    "        prev_button.on_click(prev_mask)\n",
    "        next_button.on_click(next_mask)\n",
    "\n",
    "        # Output area for plots\n",
    "        self.output_area = widgets.Output()\n",
    "\n",
    "        # Layout\n",
    "        controls = widgets.VBox([\n",
    "            widgets.HTML(\"<h3>🎛️ Controls</h3>\"),\n",
    "            self.image_selector,\n",
    "            widgets.HBox([prev_button, self.mask_slider, next_button]),\n",
    "            self.scale_label,\n",
    "            widgets.HTML(\"<hr>\"),\n",
    "            self.output_area\n",
    "        ])\n",
    "\n",
    "        display(controls)\n",
    "\n",
    "        # Initial display\n",
    "        self.update_display()\n",
    "\n",
    "        return controls\n",
    "\n",
    "print(\"✅ MaskVisualizer class defined successfully\")\n"
   ]
  },
  {
   "cell_type": "code",
   "execution_count": 10,
   "id": "ecc0ba47",
   "metadata": {},
   "outputs": [
    {
     "name": "stdout",
     "output_type": "stream",
     "text": [
      "📁 Will load segmentation data from: ../segmentation_ramen3.pt\n",
      "📋 Make sure this path points to a .pth file created by make_segmentation_dataset.py\n"
     ]
    }
   ],
   "source": [
    "# Configuration - Update this path to your segmentation dataset file\n",
    "SEGMENTATION_DATA_PATH = \"../segmentation_ramen3.pt\"\n",
    "\n",
    "print(f\"📁 Will load segmentation data from: {SEGMENTATION_DATA_PATH}\")\n",
    "print(\"📋 Make sure this path points to a .pth file created by make_segmentation_dataset.py\")\n"
   ]
  },
  {
   "cell_type": "code",
   "execution_count": null,
   "id": "2076e1ae",
   "metadata": {},
   "outputs": [
    {
     "name": "stdout",
     "output_type": "stream",
     "text": [
      "🚀 Loading segmentation data...\n"
     ]
    },
    {
     "name": "stderr",
     "output_type": "stream",
     "text": [
      "/tmp/ipykernel_155972/1320907010.py:4: FutureWarning: You are using `torch.load` with `weights_only=False` (the current default value), which uses the default pickle module implicitly. It is possible to construct malicious pickle data which will execute arbitrary code during unpickling (See https://github.com/pytorch/pytorch/blob/main/SECURITY.md#untrusted-models for more details). In a future release, the default value for `weights_only` will be flipped to `True`. This limits the functions that could be executed during unpickling. Arbitrary objects will no longer be allowed to be loaded via this mode unless they are explicitly allowlisted by the user via `torch.serialization.add_safe_globals`. We recommend you start setting `weights_only=True` for any use case where you don't have full control of the loaded file. Please open an issue on GitHub for any issues related to this experimental feature.\n",
      "  self.data = torch.load(segmentation_data_path, map_location='cpu')\n"
     ]
    },
    {
     "name": "stdout",
     "output_type": "stream",
     "text": [
      "Loaded segmentation data with 131 images\n",
      "🎨 Creating interactive interface...\n"
     ]
    },
    {
     "data": {
      "application/vnd.jupyter.widget-view+json": {
       "model_id": "8aa30a5642b6489bb073da6cfe30ba59",
       "version_major": 2,
       "version_minor": 0
      },
      "text/plain": [
       "VBox(children=(HTML(value='<h3>🎛️ Controls</h3>'), Dropdown(description='Image:', options=(('Image 1', 0), ('I…"
      ]
     },
     "metadata": {},
     "output_type": "display_data"
    },
    {
     "name": "stdout",
     "output_type": "stream",
     "text": [
      "\n",
      "✅ Interactive mask visualizer loaded successfully!\n",
      "Use the controls above to navigate through images and masks.\n",
      "Masks are sorted from smallest to largest scale values.\n"
     ]
    }
   ],
   "source": [
    "# Create and run the mask visualizer\n",
    "try:\n",
    "    # Initialize the visualizer\n",
    "    print(\"🚀 Loading segmentation data...\")\n",
    "    visualizer = MaskVisualizer(SEGMENTATION_DATA_PATH)\n",
    "\n",
    "    # Create and display the interactive widgets\n",
    "    print(\"🎨 Creating interactive interface...\")\n",
    "    controls = visualizer.create_widgets()\n",
    "\n",
    "    print(\"\\n✅ Interactive mask visualizer loaded successfully!\")\n",
    "    print(\"Use the controls above to navigate through images and masks.\")\n",
    "    print(\"Masks are sorted from smallest to largest scale values.\")\n",
    "\n",
    "except FileNotFoundError:\n",
    "    print(f\"❌ Error: Could not find segmentation data file at {SEGMENTATION_DATA_PATH}\")\n",
    "    print(\"Please update SEGMENTATION_DATA_PATH to point to your segmentation dataset file.\")\n",
    "except Exception as e:\n",
    "    print(f\"❌ Error loading segmentation data: {e}\")\n",
    "    print(\"Make sure the file was created by make_segmentation_dataset.py and contains the expected data structure.\")\n"
   ]
  },
  {
   "cell_type": "code",
   "execution_count": null,
   "id": "03357d92",
   "metadata": {},
   "outputs": [],
   "source": []
  }
 ],
 "metadata": {
  "kernelspec": {
   "display_name": "fvdb_garfvdb",
   "language": "python",
   "name": "python3"
  },
  "language_info": {
   "codemirror_mode": {
    "name": "ipython",
    "version": 3
   },
   "file_extension": ".py",
   "mimetype": "text/x-python",
   "name": "python",
   "nbconvert_exporter": "python",
   "pygments_lexer": "ipython3",
   "version": "3.11.12"
  }
 },
 "nbformat": 4,
 "nbformat_minor": 5
}
